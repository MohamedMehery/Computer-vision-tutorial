{
 "cells": [
  {
   "cell_type": "code",
   "execution_count": null,
   "metadata": {},
   "outputs": [],
   "source": [
    "import cv2\n",
    "import numpy as np\n",
    "\n",
    "img = cv2.imread(\"news.jpg\",0)\n",
    "img = cv2.resize(img , None , fx = 0.6 ,fy = 0.6)\n",
    "retVal,threshbin_img = cv2.threshold(img , 120 , 255, cv2.THRESH_BINARY) #ret is important, check the documentations\n",
    "adbaptthresh_img = cv2.adaptiveThreshold(img,255, cv2.ADAPTIVE_THRESH_MEAN_C, cv2.THRESH_BINARY,11,2)\n",
    "gaussthresh_img = cv2.adaptiveThreshold(img,255, cv2.ADAPTIVE_THRESH_GAUSSIAN_C, cv2.THRESH_BINARY,11,2)\n",
    "\n",
    "retVal,otsuthresh1 = cv2.threshold(img , 0 , 255 , cv2.THRESH_BINARY + cv2.THRESH_OTSU)\n",
    "blur = cv2.GaussianBlur(img,(5,5),0)\n",
    "retVal,otsuthresh2 = cv2.threshold(img , 0 , 255 , cv2.THRESH_BINARY + cv2.THRESH_OTSU)\n",
    "\n",
    "\n",
    "adbaptthresh_filteredimg = cv2.adaptiveThreshold(img,255, cv2.ADAPTIVE_THRESH_MEAN_C, cv2.THRESH_BINARY,11,2)\n",
    "gaussthresh_filteredimg = cv2.adaptiveThreshold(img,255, cv2.ADAPTIVE_THRESH_GAUSSIAN_C, cv2.THRESH_BINARY,11,2)\n",
    "\n",
    "cv2.imshow(\"threshbin_img\" , threshbin_img)\n",
    "cv2.imshow(\"adbaptthresh_img\" , adbaptthresh_img)\n",
    "cv2.imshow(\"gaussthresh_img\" , gaussthresh_img)\n",
    "cv2.imshow(\"otsuthresh1\" , otsuthresh1)\n",
    "cv2.imshow(\"otsuthresh2\" , otsuthresh2)\n",
    "cv2.imshow(\"adbaptthresh_filteredimg\" , adbaptthresh_filteredimg)\n",
    "cv2.imshow(\"gaussthresh_filteredimg\" , gaussthresh_filteredimg)\n",
    "\n",
    "cv2.waitKey(0)\n",
    "cv2.destroyAllWindows()"
   ]
  },
  {
   "cell_type": "code",
   "execution_count": null,
   "metadata": {},
   "outputs": [],
   "source": []
  }
 ],
 "metadata": {
  "kernelspec": {
   "display_name": "Python 3",
   "language": "python",
   "name": "python3"
  },
  "language_info": {
   "codemirror_mode": {
    "name": "ipython",
    "version": 3
   },
   "file_extension": ".py",
   "mimetype": "text/x-python",
   "name": "python",
   "nbconvert_exporter": "python",
   "pygments_lexer": "ipython3",
   "version": "3.7.6"
  }
 },
 "nbformat": 4,
 "nbformat_minor": 4
}
