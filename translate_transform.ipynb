{
 "cells": [
  {
   "cell_type": "code",
   "execution_count": null,
   "metadata": {},
   "outputs": [
    {
     "name": "stdout",
     "output_type": "stream",
     "text": [
      "(539, 802, 3)\n",
      "[[  1.   0.  50.]\n",
      " [  0.   1. -70.]]\n"
     ]
    }
   ],
   "source": [
    "import numpy as np\n",
    "import cv2\n",
    "img = cv2.imread(\"Cat.jpg\",1) #as color scal here\n",
    "img = cv2.resize(img , None , fx = 0.3 , fy = 0.3 )\n",
    "cv2.imshow(\"original image\",img)\n",
    "rows,colms,channels = img.shape   #we must notice that when we get image at gray scal the img.shape will not return channels\n",
    "print(img.shape)\n",
    "translation_matrix = np.float32([[1,0,50],[0,1,-70]])\n",
    "print(translation_matrix)\n",
    "translated_image = cv2.warpAffine(img , translation_matrix, (colms,rows))\n",
    "cv2.imshow(\"translated image\",translated_image)\n",
    "cv2.waitKey(0)\n",
    "cv2.destroyAllwindows()"
   ]
  },
  {
   "cell_type": "code",
   "execution_count": null,
   "metadata": {},
   "outputs": [
    {
     "name": "stdout",
     "output_type": "stream",
     "text": [
      "[[ 1.26666667e+00  6.00000000e-01 -8.33333333e+01]\n",
      " [-7.10542736e-17  1.00000000e+00  5.00000000e+01]]\n"
     ]
    }
   ],
   "source": [
    "import cv2\n",
    "import numpy as np\n",
    "\n",
    "img = cv2.imread(\"Cat.jpg\" , 1)\n",
    "img = cv2.resize(img , None , fx  = 0.3 , fy = 0.3)\n",
    "cv2.imshow(\"Original\" , img)\n",
    "rows,colms,channels = img.shape\n",
    "transformation_points1 = np.float32([[50 , 50 ],[ 200 , 50 ],[ 50 , 200]])#those points must be fare from each other and from a triangle\n",
    "transformation_points2 = np.float32([[10 , 100 ],[ 200 , 100 ],[ 100 , 250]])#those points must be fare from each other and from a triangle\n",
    "matrix = cv2.getAffineTransform(transformation_points1,transformation_points2)\n",
    "print(matrix)\n",
    "transformed_image = cv2.warpAffine(img, matrix , (colms,rows))\n",
    "cv2.imshow(\"transformed_image\" ,transformed_image )\n",
    "cv2.waitKey(0)\n",
    "cv2.destoryAllwindows()\n"
   ]
  },
  {
   "cell_type": "code",
   "execution_count": null,
   "metadata": {},
   "outputs": [],
   "source": [
    "import cv2\n",
    "import numpy as np\n",
    "\n",
    "img = cv2.imread(\"cards.jpg\",1)\n",
    "cv2.imshow(\"Original image\",img)\n",
    "width,height = [250,350]\n",
    "# we need to know the three points of the card edges and transform to 2D image\n",
    "edges_points = np.float32([[367,350],[577,338],[400,660],[643,640]]) #to get this point open image on paint the coordinated are on the bottom of screen\n",
    "new_edges_points = np.float32([[0,0] , [width,0] , [0,height],[width,height]])\n",
    "matrix = cv2.getPerspectiveTransform(edges_points,new_edges_points)\n",
    "out_image = cv2.warpPerspective(img , matrix , (width , height))\n",
    "for x in range(0,4):\n",
    "    cv2.circle(img,(edges_points[x][0] , edges_points[x][1]),5,[0,0,255],cv2.FILLED)\n",
    "\n",
    "cv2.imshow(\"Circle image\",img)\n",
    "cv2.imshow(\"Outout image\",out_image)\n",
    "\n",
    "cv2.waitKey(0)\n",
    "cv2.destoryAllwindows()\n"
   ]
  },
  {
   "cell_type": "code",
   "execution_count": 1,
   "metadata": {},
   "outputs": [],
   "source": [
    "import cv2\n",
    "import numpy as np\n",
    "\n",
    "img = cv2.imread(\"cat.jpg\",0)\n",
    "img = cv2.resize(img,None,  fx = 0.3 , fy = 0.3 )\n",
    "rows,colms = img.shape\n",
    "M = cv2.getRotationMatrix2D((colms/2, rows/2) , 90 , 1)\n",
    "dst = cv2.warpAffine(img , M , (colms, rows))\n",
    "cv2.imshow(\"dst\" , dst)\n",
    "\n",
    "cv2.waitKey(0)\n",
    "cv2.destroyAllWindows()\n"
   ]
  },
  {
   "cell_type": "code",
   "execution_count": null,
   "metadata": {},
   "outputs": [],
   "source": []
  }
 ],
 "metadata": {
  "kernelspec": {
   "display_name": "Python 3",
   "language": "python",
   "name": "python3"
  },
  "language_info": {
   "codemirror_mode": {
    "name": "ipython",
    "version": 3
   },
   "file_extension": ".py",
   "mimetype": "text/x-python",
   "name": "python",
   "nbconvert_exporter": "python",
   "pygments_lexer": "ipython3",
   "version": "3.7.6"
  }
 },
 "nbformat": 4,
 "nbformat_minor": 4
}
