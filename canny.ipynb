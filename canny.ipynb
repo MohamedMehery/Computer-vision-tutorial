{
 "cells": [
  {
   "cell_type": "code",
   "execution_count": 2,
   "metadata": {},
   "outputs": [
    {
     "data": {
      "text/plain": [
       "<matplotlib.image.AxesImage at 0xfb9ab7d488>"
      ]
     },
     "execution_count": 2,
     "metadata": {},
     "output_type": "execute_result"
    },
    {
     "data": {
      "image/png": "[encoded data removed]",
      "text/plain": [
       "<Figure size 432x288 with 1 Axes>"
      ]
     },
     "metadata": {
      "needs_background": "light"
     },
     "output_type": "display_data"
    }
   ],
   "source": [
    "\"\"\"\n",
    "opencv tutorial\n",
    "#to install open cv print: pip install opencv-python\n",
    "\"\"\"\n",
    "import cv2\n",
    "import numpy as np\n",
    "import matplotlib.pyplot as plt\n",
    "%matplotlib inline\n",
    "img = cv2.imread('RGBY.jpg',1) #Color is BGR not RGB, 1 means read it in color\n",
    "plt.imshow(img)"
   ]
  },
  {
   "cell_type": "code",
   "execution_count": null,
   "metadata": {},
   "outputs": [],
   "source": [
    "resized = cv2.resize(img , None , fx =1.5 , fy =1 , interpolation = cv2.INTER_CUBIC)\n",
    "#interpolation fill the zero element add when streching the image\n",
    "\n",
    "cv2.imshow(\"Original picture\",img)\n",
    "cv2.imshow(\"Resized picture\" , resized)\n",
    "cv2.waitKey(0)\n",
    "cv2.destroyAllwindows()\n"
   ]
  },
  {
   "cell_type": "code",
   "execution_count": null,
   "metadata": {},
   "outputs": [],
   "source": [
    "grey_img = cv2.imread('RGBY.jpg' , 0) #grey img\n",
    "img = cv2.imread('RGBY.jpg' , 1) #colored img\n",
    "print(img.shape) #(586, 415, 3)\n",
    "\n",
    "print(\"Top left\", img[0,0]) # print the pixl value of each point\n",
    "print(\"Top right\", img[0,414])\n",
    "print(\"Bottom left\", img[585,0])\n",
    "print(\"Bottom right\", img[585,414])\n",
    "cv2.imshow(\"Color pic\" , img)\n",
    "cv2.waitKey(0)\n",
    "cv2.desroyAllwindow()"
   ]
  },
  {
   "cell_type": "code",
   "execution_count": null,
   "metadata": {},
   "outputs": [],
   "source": [
    "#split channels\n",
    "blue = img[:,:,0] #show how much this img is blue\n",
    "green = img[:,:,1]\n",
    "red = img[:,:,2]\n",
    "cv2.imshow(\"Red\" , red)\n",
    "b,g,r = cv2.split(img)\n",
    "cv2.imshow(\"green\" , g)\n",
    "img_merged = cv2.merge((b,g,r))\n",
    "cv2.imshow(\"merged image\" , img_merged)\n",
    "\n",
    "cv2.waitKey(0)\n",
    "cv2.desroyAllwindow()"
   ]
  },
  {
   "cell_type": "code",
   "execution_count": null,
   "metadata": {},
   "outputs": [],
   "source": [
    "### Cany edge detection\n",
    "import cv2\n",
    "img = cv2.imread(\"Cat.jpg\",0) #as grey scal here\n",
    "img = cv2.resize(img , None , fx = 0.3 , fy = 0.3 )\n",
    "edges = cv2.Canny(img, 100,150) #min and max value\n",
    "cv2.imshow(\"original image\" , img)\n",
    "cv2.imshow(\"edge image\" , edges)\n",
    "cv2.waitKey(0)\n",
    "cv2.destroyAllwindows()"
   ]
  },
  {
   "cell_type": "code",
   "execution_count": null,
   "metadata": {},
   "outputs": [],
   "source": []
  }
 ],
 "metadata": {
  "kernelspec": {
   "display_name": "Python 3",
   "language": "python",
   "name": "python3"
  },
  "language_info": {
   "codemirror_mode": {
    "name": "ipython",
    "version": 3
   },
   "file_extension": ".py",
   "mimetype": "text/x-python",
   "name": "python",
   "nbconvert_exporter": "python",
   "pygments_lexer": "ipython3",
   "version": "3.7.6"
  }
 },
 "nbformat": 4,
 "nbformat_minor": 4
}
