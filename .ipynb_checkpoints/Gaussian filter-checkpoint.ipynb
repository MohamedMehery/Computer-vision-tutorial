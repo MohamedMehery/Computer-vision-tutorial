{
 "cells": [
  {
   "cell_type": "code",
   "execution_count": null,
   "metadata": {},
   "outputs": [],
   "source": [
    "import cv2\n",
    "import numpy as np\n",
    "from matplotlib import pyplot as plt\n",
    "%matplotlib inline\n",
    "\n",
    "img2 = cv2.imread('2person.jpg')\n",
    "kernel = np.ones((5,5),np.float32)/25\n",
    "average_filter2 = cv2.filter2D(img2,-1,kernel)\n",
    "\n",
    "img = cv2.imread('plane.png')\n",
    "kernel = np.ones((5,5),np.float32)/25\n",
    "average_filter = cv2.filter2D(img,-1,kernel)\n",
    "\n",
    "\n",
    "blur = cv2.GaussianBlur(img,(5,5),0)\n",
    "blur2 = cv2.GaussianBlur(img2,(5,5),0)\n",
    "\n",
    "cv2.imshow(\"original2\" , img2)\n",
    "cv2.imshow(\"original\" , img)\n",
    "cv2.imshow(\"usign cv2.filter2D\",average_filter)\n",
    "cv2.imshow(\"usign Gaussian filter\",blur)\n",
    "cv2.imshow(\"usign cv2.filter2D2\",average_filter2)\n",
    "cv2.imshow(\"usign Gaussian filter2\",blur2)\n",
    "\n",
    "\n",
    "cv2.waitKey(0)\n",
    "cv2.destroyAllwindows()\n"
   ]
  },
  {
   "cell_type": "code",
   "execution_count": null,
   "metadata": {},
   "outputs": [],
   "source": [
    "import cv2\n",
    "import numpy as np\n",
    "\n",
    "img = cv2.imread(\"plane.png\")\n",
    "median = cv2.medianBlur(img , 5)\n",
    "blur = cv2.bilateralFilter(img,9,75,75)\n",
    "kernel = np.ones((5,5),np.float32)/25\n",
    "\n",
    "average_filter = cv2.filter2D(blur,-1,kernel)\n",
    "\n",
    "cv2.imshow(\"original\" , img)\n",
    "\n",
    "cv2.imshow(\"median\" , median)\n",
    "\n",
    "cv2.imshow(\"bilateral blur\" , blur)\n",
    "cv2.imshow(\"average_filter blur\" , average_filter)\n",
    "\n",
    "\n",
    "cv2.waitKey(0)\n",
    "cv2.destroyAllwindows()"
   ]
  },
  {
   "cell_type": "code",
   "execution_count": null,
   "metadata": {},
   "outputs": [],
   "source": []
  }
 ],
 "metadata": {
  "kernelspec": {
   "display_name": "Python 3",
   "language": "python",
   "name": "python3"
  },
  "language_info": {
   "codemirror_mode": {
    "name": "ipython",
    "version": 3
   },
   "file_extension": ".py",
   "mimetype": "text/x-python",
   "name": "python",
   "nbconvert_exporter": "python",
   "pygments_lexer": "ipython3",
   "version": "3.7.6"
  }
 },
 "nbformat": 4,
 "nbformat_minor": 4
}
