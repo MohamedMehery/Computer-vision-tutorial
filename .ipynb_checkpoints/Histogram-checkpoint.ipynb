{
 "cells": [
  {
   "cell_type": "code",
   "execution_count": null,
   "metadata": {},
   "outputs": [],
   "source": [
    "import cv2\n",
    "import numpy as np\n",
    "src = cv2.imread(\"plane.png\" , 0)\n",
    "\n",
    "dst = cv2.equalizeHist(src)\n",
    "cv2.imshow('Source image', src)\n",
    "cv2.imshow('Equalized Image', dst)\n",
    "\n",
    "##cv2.imwrite('RGBY.png',res)\n",
    "\n",
    "cv2.waitKey(0)\n",
    "cv2.destoryAllwindows()"
   ]
  },
  {
   "cell_type": "code",
   "execution_count": 2,
   "metadata": {},
   "outputs": [],
   "source": []
  },
  {
   "cell_type": "code",
   "execution_count": null,
   "metadata": {},
   "outputs": [
    {
     "name": "stdout",
     "output_type": "stream",
     "text": [
      "(432, 688, 3)\n",
      "[[0 0 0 ... 0 0 0]\n",
      " [0 0 0 ... 0 0 0]\n",
      " [0 0 0 ... 0 0 0]\n",
      " ...\n",
      " [0 0 0 ... 0 0 0]\n",
      " [0 0 0 ... 0 0 0]\n",
      " [0 0 0 ... 0 0 0]]\n"
     ]
    }
   ],
   "source": [
    "import cv2 as cv\n",
    "import numpy as np\n",
    "\n",
    "frame98 = cv.imread(\"frame98.jpg\")\n",
    "frame98 = cv.resize(frame98 , None , fx = 0.4 , fy = 0.4)\n",
    "#print(frame98[1,:,:])\n",
    "\n",
    "\n",
    "cv.imshow(\"original\" , frame98)\n",
    "#frame98[:,:,0] = 0\n",
    "print(frame98.shape)\n",
    "gray = cv.cvtColor(frame98  , cv.COLOR_BGR2GRAY)\n",
    "print(frame98[:,:,0])\n",
    "dst = cv.equalizeHist(gray)\n",
    "\n",
    "cv.imshow(\"equalized\" , dst)\n",
    "cv.imshow(\"without blue\" , frame98)\n",
    "\n",
    "\n",
    "cv.waitKey(0)\n",
    "cv.destroyAllWindows()\n"
   ]
  },
  {
   "cell_type": "code",
   "execution_count": null,
   "metadata": {},
   "outputs": [],
   "source": [
    "import cv2 as cv\n",
    "import numpy as np\n",
    "\n",
    "frame98 = cv.imread(\"frame98.jpg\")\n",
    "frame98 = cv.resize(frame98 , None , fx = 1 , fy = 1)\n",
    "\n",
    "\n",
    "blur = cv.GaussianBlur(frame98,(5,5),0)\n",
    "# hsv = cv2.cvtColor(img, cv2.COLOR_BGR2HSV)\n",
    "# yellownMask = cv2.inRange(hsv, (20,120,255), (40,255,255))\n",
    "# hsv[:,:,1] = yellownMask \n",
    "# back = cv2.cvtColor(hsv, cv2.COLOR_HSV2BGR)\n",
    "\n",
    "# img = cv2.imread(\"D:\\\\testing\\\\test.png\",1)\n",
    "\n",
    "#you must notice that now the images in hsv format\n",
    "hsv = cv.cvtColor(blur, cv.COLOR_BGR2HSV)\n",
    "greenMask = cv.inRange(hsv, (26, 10, 30), (97, 100, 255))\n",
    "\n",
    "frame98[greenMask == 255] = (0, 255, 0)\n",
    "\n",
    "cv.imshow(\"result\" , frame98)\n",
    "cv.imshow(\"greenMask\" , greenMask)\n",
    "\n",
    "\n",
    "cv.waitKey(0)\n",
    "cv.destroyAllWindows()"
   ]
  },
  {
   "cell_type": "code",
   "execution_count": null,
   "metadata": {},
   "outputs": [],
   "source": []
  }
 ],
 "metadata": {
  "kernelspec": {
   "display_name": "Python 3",
   "language": "python",
   "name": "python3"
  },
  "language_info": {
   "codemirror_mode": {
    "name": "ipython",
    "version": 3
   },
   "file_extension": ".py",
   "mimetype": "text/x-python",
   "name": "python",
   "nbconvert_exporter": "python",
   "pygments_lexer": "ipython3",
   "version": "3.7.6"
  }
 },
 "nbformat": 4,
 "nbformat_minor": 4
}
