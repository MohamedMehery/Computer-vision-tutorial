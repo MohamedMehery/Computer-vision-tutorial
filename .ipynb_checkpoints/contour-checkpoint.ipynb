{
 "cells": [
  {
   "cell_type": "code",
   "execution_count": null,
   "metadata": {},
   "outputs": [
    {
     "name": "stdout",
     "output_type": "stream",
     "text": [
      "Number of contours 4\n"
     ]
    }
   ],
   "source": [
    "import numpy as np \n",
    "import cv2\n",
    "from matplotlib import pyplot as plt\n",
    "\n",
    "img = cv2.imread(\"RGBY.jpg\")\n",
    "#img = cv2.resize(img , None , fx = 0.3 , fy = 0.3)\n",
    "imgray = cv2.cvtColor(img , cv2.COLOR_BGR2GRAY)\n",
    "ret , otusothreshold = cv2.threshold(imgray ,120 , 255 , cv2.THRESH_BINARY )\n",
    "contours , hierarchy = cv2.findContours(otusothreshold , cv2.RETR_TREE , cv2.cv2.CHAIN_APPROX_SIMPLE)\n",
    "#cv2.drawContours(img , contours , -1, (150,150 , 0))\n",
    "cnt = contours[0:]\n",
    "cv2.drawContours(img , cnt , -1 , (150,150 , 0))\n",
    "\n",
    "\n",
    "print(\"Number of contours \" + str(len(contours)))\n",
    "cv2.imshow(\"img\",img)\n",
    "cv2.imshow(\"gray img\",imgray)\n",
    "cv2.waitKey(0)\n",
    "cv2.destroyAllwindows()"
   ]
  },
  {
   "cell_type": "code",
   "execution_count": null,
   "metadata": {},
   "outputs": [
    {
     "name": "stdout",
     "output_type": "stream",
     "text": [
      "CX =  369  CX =  246\n",
      "283162.5\n",
      "3634.4924215078354\n",
      "[[[ 28  24]]\n",
      "\n",
      " [[ 28 479]]\n",
      "\n",
      " [[704 479]]\n",
      "\n",
      " [[704  24]]]\n"
     ]
    }
   ],
   "source": [
    "import cv2\n",
    "import numpy as np\n",
    "img = cv2.imread('square.png',1)\n",
    "cv2.imshow(\"Original img\" , img)\n",
    "grayimg = imgray = cv2.cvtColor(img , cv2.COLOR_BGR2GRAY)\n",
    "\n",
    "ret,thresh = cv2.threshold(grayimg,127,255,0)\n",
    "contours,hierarchy = cv2.findContours(thresh, 1, 2)\n",
    "cnt = contours[0]\n",
    "\n",
    "cv2.drawContours(img , contours , -1 , (0,150 , 150) , 5)\n",
    "\n",
    "M = cv2.moments(cnt)  # cv2.moments() gives a dictionary of all moment values calculated\n",
    "cx = int(M['m10']/M['m00'])#Centroid\n",
    "cy = int(M['m01']/M['m00'])\n",
    "cv2.circle(img , (cx , cy) , 5 , [0,0,255] , cv2.FILLED)\n",
    "cv2.imshow(\"Mass center of contour\" , img )\n",
    "print(\"CX = \" , cx , \" CX = \" , cy) \n",
    "area = cv2.contourArea(cnt)\n",
    "perimeter = cv2.arcLength(cnt,True)\n",
    "epsilon = 0.1*cv2.arcLength(cnt,True)\n",
    "\n",
    "approx = cv2.approxPolyDP(cnt,epsilon,True)\n",
    "\n",
    "cv2.drawContours(img , [approx], -1 , (0,155 , 0) , 15) #using [approx] instead of approx give rectangular shape instead of points\n",
    "cv2.imshow(\"Approx contour\" , img)\n",
    "\n",
    "print(area) \n",
    "print(perimeter)\n",
    "print(approx)\n",
    "\n",
    "\n",
    "cv2.waitKey(0)"
   ]
  },
  {
   "cell_type": "code",
   "execution_count": null,
   "metadata": {},
   "outputs": [],
   "source": [
    "import cv2\n",
    "import numpy as np\n",
    "\n",
    "img = cv2.imread(\"hand.png\")\n",
    "im = img\n",
    "grayimg = cv2.cvtColor(img, cv2.COLOR_BGR2GRAY) # convert to grayscale\n",
    "ret , thresh =  cv2.threshold(grayimg,127,255,0)\n",
    "contours,hierarchy = cv2.findContours(thresh, cv2.RETR_TREE , cv2.cv2.CHAIN_APPROX_SIMPLE)\n",
    "hull = []\n",
    "for i in range(len(contours)):\n",
    "    hull.append(cv2.convexHull(contours[i]))\n",
    "    \n",
    "cv2.drawContours(img , hull, -1 , ( 0 ,0 , 255) ,3)\n",
    "rect = []\n",
    "box = []\n",
    "for i in range(len(contours)):\n",
    "    rect.append(cv2.minAreaRect(contours[i]))\n",
    "    box.append(cv2.boxPoints(rect[i]))\n",
    "\n",
    "box = np.int0(box)\n",
    "im = cv2.drawContours(im,box,-1,(0,250,),2)\n",
    "cv2.imshow(\"box img\" , im)\n",
    "cv2.imshow(\"Hull img\" , img)\n",
    "cv2.waitKey(0)\n"
   ]
  },
  {
   "cell_type": "code",
   "execution_count": null,
   "metadata": {},
   "outputs": [],
   "source": []
  },
  {
   "cell_type": "code",
   "execution_count": null,
   "metadata": {},
   "outputs": [],
   "source": []
  }
 ],
 "metadata": {
  "kernelspec": {
   "display_name": "Python 3",
   "language": "python",
   "name": "python3"
  },
  "language_info": {
   "codemirror_mode": {
    "name": "ipython",
    "version": 3
   },
   "file_extension": ".py",
   "mimetype": "text/x-python",
   "name": "python",
   "nbconvert_exporter": "python",
   "pygments_lexer": "ipython3",
   "version": "3.7.6"
  }
 },
 "nbformat": 4,
 "nbformat_minor": 4
}
