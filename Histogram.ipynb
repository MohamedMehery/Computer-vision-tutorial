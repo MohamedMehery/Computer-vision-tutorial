{
 "cells": [
  {
   "cell_type": "code",
   "execution_count": null,
   "metadata": {},
   "outputs": [],
   "source": [
    "import cv2\n",
    "import numpy as np\n",
    "src = cv2.imread(\"plane.png\" , 0)\n",
    "\n",
    "dst = cv2.equalizeHist(src)\n",
    "cv2.imshow('Source image', src)\n",
    "cv2.imshow('Equalized Image', dst)\n",
    "\n",
    "##cv2.imwrite('RGBY.png',res)\n",
    "\n",
    "cv2.waitKey(0)\n",
    "cv2.destoryAllwindows()"
   ]
  },
  {
   "cell_type": "code",
   "execution_count": null,
   "metadata": {},
   "outputs": [],
   "source": []
  },
  {
   "cell_type": "code",
   "execution_count": null,
   "metadata": {},
   "outputs": [],
   "source": []
  }
 ],
 "metadata": {
  "kernelspec": {
   "display_name": "Python 3",
   "language": "python",
   "name": "python3"
  },
  "language_info": {
   "codemirror_mode": {
    "name": "ipython",
    "version": 3
   },
   "file_extension": ".py",
   "mimetype": "text/x-python",
   "name": "python",
   "nbconvert_exporter": "python",
   "pygments_lexer": "ipython3",
   "version": "3.7.6"
  }
 },
 "nbformat": 4,
 "nbformat_minor": 4
}
